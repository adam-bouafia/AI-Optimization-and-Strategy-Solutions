{
  "nbformat": 4,
  "nbformat_minor": 0,
  "metadata": {
    "colab": {
      "provenance": []
    },
    "kernelspec": {
      "name": "python3",
      "display_name": "Python 3"
    },
    "language_info": {
      "name": "python"
    }
  },
  "cells": [
    {
      "cell_type": "markdown",
      "source": [
        "Libraries needed for our **MDP Cooking Chef Problem**"
      ],
      "metadata": {
        "id": "LIeTGKyuyASu"
      }
    },
    {
      "cell_type": "code",
      "source": [
        "import numpy as np  # For handling arrays and matrix operations\n",
        "import random  # For generating random numbers, crucial in stochastic processes\n",
        "\n",
        "import matplotlib.pyplot as plt  # For plotting and visualizations\n",
        "\n",
        "import math  # For mathematical functions\n",
        "\n",
        "import pandas as pd  # For handling data in a tabular format\n"
      ],
      "metadata": {
        "id": "sZDg10Umx4Th"
      },
      "execution_count": null,
      "outputs": []
    },
    {
      "cell_type": "markdown",
      "source": [
        "**Define the Walls,Tools,Goal_states and Gates:** Translate walls,tools,goals and gates constraints into a format that can be used in the code. Since walls are bidirectional, each pair should be represented twice."
      ],
      "metadata": {
        "id": "ptG0dT9Qs8Zr"
      }
    },
    {
      "cell_type": "code",
      "source": [
        "class CookingChefMDP:\n",
        "    def __init__(self):\n",
        "        self.grid = np.array([\n",
        "            ['E', '.', '.', '.', '.', '.', '.', 'E', '.'],\n",
        "            ['T', '.', 'A', '.', '.', '.', '.', 'T', 'G'],\n",
        "            ['.', '.', 'G', '.', '.', '.', '.', '.', '.'],\n",
        "            ['.', '.', '.', '.', '.', '.', '.', '.', '.']\n",
        "        ])\n",
        "        # Define walls\n",
        "        self.walls = [\n",
        "            # Horizontal wall\n",
        "            ((0, 2), (0, 3)), ((0, 3), (0, 2)),\n",
        "            ((0, 6), (0, 7)), ((0, 7), (0, 6)),\n",
        "            ((1, 1), (1, 2)), ((1, 2), (1, 1)),\n",
        "            ((1, 6), (1, 7)), ((1, 7), (1, 6)),\n",
        "            ((2, 1), (2, 2)), ((2, 2), (2, 1)),\n",
        "            ((2, 6), (2, 7)), ((2, 7), (2, 6)),\n",
        "            ((3, 0), (3, 1)), ((3, 1), (3, 0)),\n",
        "            ((3, 6), (3, 7)), ((3, 7), (3, 6)),\n",
        "            # Vertical walls\n",
        "            ((0, 3), (1, 3)), ((1, 3), (0, 3)),\n",
        "            ((1, 1), (2, 1)), ((2, 1), (1, 1)),\n",
        "            ((2, 2), (3, 2)), ((3, 2), (2, 2)),\n",
        "            ((0, 7), (1, 7)), ((1, 7), (0, 7)),\n",
        "            ((1, 7), (2, 7)), ((2, 7), (1, 7)),\n",
        "            ((2, 7), (3, 7)), ((3, 7), (2, 7)),\n",
        "            ]\n",
        "\n",
        "        # Define goal states (frying pan and oven)\n",
        "        self.goal_states = [(0, 0), (0, 7)]\n",
        "\n",
        "        # Define tool locations (egg beaters)\n",
        "        self.tool_locations = [(1, 0), (1, 7)]\n",
        "\n",
        "        # Define gates (special cells for teleportation)\n",
        "        self.gates = {(2, 2): (1, 8), (1, 8): (2, 2)}\n",
        "\n",
        "        # Initialize states\n",
        "        self.states = [(x, y) for x in range(self.grid.shape[0]) for y in range(self.grid.shape[1])]\n",
        "\n",
        "        # Define possible actions\n",
        "        self.actions = ['up', 'down', 'left', 'right', 'use_gate']\n",
        "\n",
        "        # Initialize Q-table\n",
        "        self.Q = {(state, action): 0 for state in self.states for action in self.actions}\n",
        "\n"
      ],
      "metadata": {
        "id": "Ft2GpZ0is9lb"
      },
      "execution_count": null,
      "outputs": []
    },
    {
      "cell_type": "markdown",
      "source": [
        "**get_initial_state**: This method randomly selects an initial state from the list of all states at the beginning of each episode.\n",
        "\n",
        "**run_episodes**: This method runs the MDP for a specified number of episodes. It uses the choose_action, calculate_next_state, get_reward, update_q_value, and check_if_done methods to simulate each step within an episode.\n",
        "\n",
        "**visualize_policy**: This method creates a grid visualization of the optimal policy learned by the MDP. It uses matplotlib to plot this grid, where each cell represents the best action for that state.\n",
        "\n",
        "**Logging**: The code includes print statements to log the progress of each episode and the actions taken at each step."
      ],
      "metadata": {
        "id": "5bzwxkyN20FN"
      }
    },
    {
      "cell_type": "code",
      "source": [
        "def get_initial_state(self):\n",
        "        # Choose a random initial state\n",
        "        initial_state = random.choice(self.states)\n",
        "        # Place the agent '☺' in the chosen initial state\n",
        "        self.place_agent_on_grid(initial_state)\n",
        "        return initial_state\n",
        "CookingChefMDP.get_initial_state = get_initial_state\n",
        "\n",
        "def place_agent_on_grid(self, state):\n",
        "        # Reset grid to remove previous agent position\n",
        "        for i in range(self.grid.shape[0]):\n",
        "            for j in range(self.grid.shape[1]):\n",
        "                if self.grid[i, j] == '☺':\n",
        "                    self.grid[i, j] = '.'\n",
        "\n",
        "        # Place the agent '☺' in the new state\n",
        "        x, y = state\n",
        "        self.grid[x, y] = '☺'\n",
        "CookingChefMDP.place_agent_on_grid = place_agent_on_grid\n",
        "\n",
        "def run_episodes(self, num_episodes, alpha, gamma, epsilon):\n",
        "    for episode in range(num_episodes):\n",
        "      state = self.get_initial_state()\n",
        "      self.visualize_policy(agent_start_state=state)\n",
        "      done = False\n",
        "\n",
        "      while not done:\n",
        "            action = self.choose_action(state, epsilon)\n",
        "            next_state = self.calculate_next_state(state, action)\n",
        "            reward = self.get_reward(state, action, next_state)\n",
        "            self.update_q_value(state, action, reward, next_state, alpha, gamma)\n",
        "\n",
        "                # Print the result of the current step\n",
        "            print(f\"Episode {episode}, State: {state}, Action: {action}, Reward: {reward}\")\n",
        "\n",
        "            state = next_state\n",
        "            done = self.check_if_done(state)\n",
        "\n",
        "            # Print the result of the episode\n",
        "            print(f\"Episode {episode} finished\")\n",
        "\n",
        "        # After all episodes, visualize the policy\n",
        "      self.visualize_policy()\n",
        "CookingChefMDP.run_episodes = run_episodes\n",
        "\n",
        "def visualize_policy(self, agent_start_state=None):\n",
        "    fig, ax = plt.subplots(figsize=(self.grid.shape[1], self.grid.shape[0]))\n",
        "\n",
        "    # Set up the plot grid\n",
        "    ax.set_xlim(-0.5, self.grid.shape[1] - 0.5)\n",
        "    ax.set_ylim(-0.5, self.grid.shape[0] - 0.5)\n",
        "    ax.set_xticks(np.arange(self.grid.shape[1]) - 0.5)\n",
        "    ax.set_yticks(np.arange(self.grid.shape[0]) - 0.5)\n",
        "    ax.set_xticklabels([])\n",
        "    ax.set_yticklabels([])\n",
        "    ax.grid(which='major', color='black', linestyle='-', linewidth=2)\n",
        "\n",
        "    # Arrow properties\n",
        "    arrow_properties = {\n",
        "        'up': {'dx': 0, 'dy': -0.3, 'head_width': 0.1, 'head_length': 0.1},\n",
        "        'down': {'dx': 0, 'dy': 0.3, 'head_width': 0.1, 'head_length': 0.1},\n",
        "        'left': {'dx': -0.3, 'dy': 0, 'head_width': 0.1, 'head_length': 0.1},\n",
        "        'right': {'dx': 0.3, 'dy': 0, 'head_width': 0.1, 'head_length': 0.1},\n",
        "    }\n",
        "\n",
        "    # Draw the optimal actions as arrows\n",
        "    for state in self.states:\n",
        "        if state in self.goal_states:\n",
        "            # Draw final goal states with 'F'\n",
        "            ax.text(state[1], state[0], 'F', fontsize=18, va='center', ha='center')\n",
        "        elif state in self.tool_locations:\n",
        "            # Draw tool locations with 'T'\n",
        "            ax.text(state[1], state[0], '⚒', fontsize=18, va='center', ha='center')\n",
        "        elif agent_start_state and state == agent_start_state:\n",
        "            # Draw agent start position with ☺\n",
        "            ax.text(state[1], state[0], '☺', fontsize=18, va='center', ha='center')\n",
        "        elif state in self.gates.keys():\n",
        "            # Draw gate locations with a 'G'\n",
        "            ax.text(state[1], state[0], 'G', fontsize=18, va='center', ha='center')\n",
        "\n",
        "\n",
        "\n",
        "        best_action = max(self.actions, key=lambda a: self.Q[(state, a)])\n",
        "\n",
        "        if best_action in arrow_properties:\n",
        "            # Draw an arrow for the action\n",
        "            props = arrow_properties[best_action]\n",
        "            ax.arrow(state[1], state[0], props['dx'], props['dy'], head_width=props['head_width'], head_length=props['head_length'], fc='k', ec='k')\n",
        "        elif best_action == 'use_gate' and state in self.gates:\n",
        "            # Draw the gate symbol only for states that are gates\n",
        "            gate_pair = self.gates[state]\n",
        "            circle = plt.Circle((state[1], state[0]), 0.2, color='blue', fill=False)\n",
        "            ax.add_patch(circle)\n",
        "            circle_connected = plt.Circle((gate_pair[1], gate_pair[0]), 0.2, color='blue', fill=False)\n",
        "            ax.add_patch(circle_connected)\n",
        "            # Draw a dashed line to represent the teleportation between gates\n",
        "            plt.plot([state[1], gate_pair[1]], [state[0], gate_pair[0]], 'b--', linewidth=1)\n",
        "\n",
        "    plt.gca().invert_yaxis()  # Invert y-axis to have the origin at the top-left\n",
        "    plt.show()\n",
        "\n",
        "CookingChefMDP.visualize_policy = visualize_policy\n"
      ],
      "metadata": {
        "id": "71qZ2_Xx20rS"
      },
      "execution_count": null,
      "outputs": []
    },
    {
      "cell_type": "markdown",
      "source": [
        "\n",
        "**Implementation calculate_next_state Function:** This function will compute the next state based on the current state and action.\n",
        "\n",
        "**Implementation is_valid_action Function:** Using the walls definition and calculate_next_state, this function will determine if an action is valid.\n",
        "\n",
        "Test is_valid_action with various states and actions to ensure it correctly identifies valid and invalid moves."
      ],
      "metadata": {
        "id": "9qFdXXZ93PLO"
      }
    },
    {
      "cell_type": "code",
      "source": [
        "def calculate_next_state(self, state, action):\n",
        "        # Define how the state changes\n",
        "        # for each action The calculate_next_state function calculates the next state based on the current state and action.\n",
        "        x, y = state\n",
        "        new_state = state  # Initialize new_state to current state\n",
        "\n",
        "        if action == 'up':\n",
        "            new_state = (x - 1, y)\n",
        "        elif action == 'down':\n",
        "            new_state = (x + 1, y)\n",
        "        elif action == 'left':\n",
        "            new_state = (x, y - 1)\n",
        "        elif action == 'right':\n",
        "            new_state = (x, y + 1)\n",
        "        elif action == 'use_gate':\n",
        "            if state in self.gates:\n",
        "                return self.gates[state]\n",
        "        # Check if new_state is within the grid boundaries\n",
        "        if 0 <= new_state[0] < self.grid.shape[0] and 0 <= new_state[1] < self.grid.shape[1]:\n",
        "            return new_state\n",
        "        else:\n",
        "            return state  # Return the current state if new_state is out of bounds\n",
        "CookingChefMDP.calculate_next_state = calculate_next_state\n",
        "\n",
        "def is_valid_action(self, state, action):\n",
        "        # Calculate the next state based on the current state and action\n",
        "        next_state = self.calculate_next_state(state, action)\n",
        "\n",
        "        # Check if the next state is within grid boundaries\n",
        "        if not (0 <= next_state[0] < len(self.grid) and 0 <= next_state[1] < len(self.grid[0])):\n",
        "            return False\n",
        "\n",
        "        # Check if moving from the current state to the next state is blocked by a wall\n",
        "        if (state, next_state) in self.walls or (next_state, state) in self.walls:\n",
        "            return False\n",
        "\n",
        "        return True\n",
        "CookingChefMDP.is_valid_action = is_valid_action"
      ],
      "metadata": {
        "id": "7eolgSSK3PZI"
      },
      "execution_count": null,
      "outputs": []
    },
    {
      "cell_type": "markdown",
      "source": [
        "The **get_reward function** will determine the reward for a given action taken in a specific state. In the context of our Cooking Chef problem, we will assign positive rewards for reaching tools or goals and negative rewards for hitting walls or taking inefficient paths."
      ],
      "metadata": {
        "id": "GfxQJec2ugEo"
      }
    },
    {
      "cell_type": "code",
      "source": [
        "def get_reward(self, state, action, next_state):\n",
        "    # Assign rewards based on the problem context\n",
        "    if next_state == self.goal_states:\n",
        "        return 10  # Reward for reaching the goal\n",
        "    elif next_state in self.tool_locations:\n",
        "        return 5  # Reward for reaching a tool\n",
        "    elif action == 'use_gate':\n",
        "        return 2  # Reward for using the gate\n",
        "    elif next_state in self.walls:\n",
        "        return -5  # Penalty for hitting a wall\n",
        "    return -1  # Small penalty for each move to encourage efficiency\n",
        "CookingChefMDP.get_reward = get_reward\n"
      ],
      "metadata": {
        "id": "iLXvsK1JtyCf"
      },
      "execution_count": null,
      "outputs": []
    },
    {
      "cell_type": "markdown",
      "source": [
        "The **choose_action** function selects an action based on our policy which is epsilon-greedy policy , balancing exploration and exploitation."
      ],
      "metadata": {
        "id": "wvLNQWWUu5w4"
      }
    },
    {
      "cell_type": "code",
      "source": [
        "def choose_action(self, state, epsilon=0.1):\n",
        "    if np.random.rand() < epsilon:\n",
        "        # Exploration: choose a random action\n",
        "        return np.random.choice(self.actions)\n",
        "    else:\n",
        "        # Exploitation: choose the best action based on current Q-values\n",
        "        q_values = [self.Q[(state, a)] for a in self.actions]\n",
        "        return self.actions[np.argmax(q_values)]\n",
        "CookingChefMDP.choose_action = choose_action"
      ],
      "metadata": {
        "id": "S9Sf08Umu6Fe"
      },
      "execution_count": null,
      "outputs": []
    },
    {
      "cell_type": "markdown",
      "source": [
        "The **update_q_value** function updates the Q-value for a given state-action pair based on the Bellman equation."
      ],
      "metadata": {
        "id": "-IUpGsUFvPBK"
      }
    },
    {
      "cell_type": "code",
      "source": [
        "def update_q_value(self, state, action, reward, next_state, alpha, gamma):\n",
        "    valid_actions = [a for a in self.actions if self.is_valid_action(next_state, a)]\n",
        "    max_next_q = max(self.Q.get((next_state, a), 0) for a in valid_actions)\n",
        "    self.Q[(state, action)] += alpha * (reward + gamma * max_next_q - self.Q.get((state, action), 0))\n",
        "CookingChefMDP.update_q_value = update_q_value\n"
      ],
      "metadata": {
        "id": "M8iw_j_tvPXy"
      },
      "execution_count": null,
      "outputs": []
    },
    {
      "cell_type": "markdown",
      "source": [
        "The **check_if_done** function checks if the goal state is reached, ending the episode."
      ],
      "metadata": {
        "id": "6KdcfzJYv_MN"
      }
    },
    {
      "cell_type": "code",
      "source": [
        "def check_if_done(self, state):\n",
        "    return state in self.goal_states  # Assuming goal_states is defined\n",
        "CookingChefMDP.check_if_done = check_if_done"
      ],
      "metadata": {
        "id": "bxY46oU_v_bW"
      },
      "execution_count": null,
      "outputs": []
    },
    {
      "cell_type": "markdown",
      "source": [
        "To complete our **model** and run it, we create an instance of the **CookingChefMDP** class and call the run_episodes method.\n",
        "This is the part of the code that actually puts our MDP model into action and allows it to *learn* and *optimize* the **policy** based on the specified number of **episodes**."
      ],
      "metadata": {
        "id": "Fu4fC5tcAoZS"
      }
    },
    {
      "cell_type": "code",
      "source": [
        "# Create an instance of our MDP model\n",
        "mdp_model = CookingChefMDP()\n",
        "\n",
        "# Parameters for the MDP run\n",
        "num_episodes = 1  # Number of episodes to run\n",
        "alpha = 0.1          # Learning rate\n",
        "gamma = 0.9          # Discount factor\n",
        "epsilon = 0.1        # Epsilon for the epsilon-greedy policy\n",
        "\n",
        "# Run the MDP model\n",
        "mdp_model.run_episodes(num_episodes, alpha, gamma, epsilon)\n"
      ],
      "metadata": {
        "colab": {
          "base_uri": "https://localhost:8080/",
          "height": 1000
        },
        "id": "vYC__XWdAo2i",
        "outputId": "29e1c414-e5ba-4e0c-f833-7638d8df1deb"
      },
      "execution_count": null,
      "outputs": [
        {
          "output_type": "display_data",
          "data": {
            "text/plain": [
              "<Figure size 900x400 with 1 Axes>"
            ],
            "image/png": "[encoded data removed]"
          },
          "metadata": {}
        },
        {
          "output_type": "stream",
          "name": "stdout",
          "text": [
            "Episode 0, State: (3, 3), Action: up, Reward: -1\n",
            "Episode 0 finished\n",
            "Episode 0, State: (2, 3), Action: up, Reward: -1\n",
            "Episode 0 finished\n",
            "Episode 0, State: (1, 3), Action: up, Reward: -1\n",
            "Episode 0 finished\n",
            "Episode 0, State: (0, 3), Action: up, Reward: -1\n",
            "Episode 0 finished\n",
            "Episode 0, State: (0, 3), Action: right, Reward: -1\n",
            "Episode 0 finished\n",
            "Episode 0, State: (0, 4), Action: up, Reward: -1\n",
            "Episode 0 finished\n",
            "Episode 0, State: (0, 4), Action: down, Reward: -1\n",
            "Episode 0 finished\n",
            "Episode 0, State: (1, 4), Action: up, Reward: -1\n",
            "Episode 0 finished\n",
            "Episode 0, State: (0, 4), Action: left, Reward: -1\n",
            "Episode 0 finished\n",
            "Episode 0, State: (0, 3), Action: down, Reward: -1\n",
            "Episode 0 finished\n",
            "Episode 0, State: (1, 3), Action: down, Reward: -1\n",
            "Episode 0 finished\n",
            "Episode 0, State: (2, 3), Action: down, Reward: -1\n",
            "Episode 0 finished\n",
            "Episode 0, State: (3, 3), Action: down, Reward: -1\n",
            "Episode 0 finished\n",
            "Episode 0, State: (3, 3), Action: left, Reward: -1\n",
            "Episode 0 finished\n",
            "Episode 0, State: (3, 2), Action: up, Reward: -1\n",
            "Episode 0 finished\n",
            "Episode 0, State: (2, 2), Action: up, Reward: -1\n",
            "Episode 0 finished\n",
            "Episode 0, State: (1, 2), Action: up, Reward: -1\n",
            "Episode 0 finished\n",
            "Episode 0, State: (0, 2), Action: down, Reward: -1\n",
            "Episode 0 finished\n",
            "Episode 0, State: (1, 2), Action: down, Reward: -1\n",
            "Episode 0 finished\n",
            "Episode 0, State: (2, 2), Action: down, Reward: -1\n",
            "Episode 0 finished\n",
            "Episode 0, State: (3, 2), Action: down, Reward: -1\n",
            "Episode 0 finished\n",
            "Episode 0, State: (3, 2), Action: left, Reward: -1\n",
            "Episode 0 finished\n",
            "Episode 0, State: (3, 1), Action: down, Reward: -1\n",
            "Episode 0 finished\n",
            "Episode 0, State: (3, 1), Action: up, Reward: -1\n",
            "Episode 0 finished\n",
            "Episode 0, State: (2, 1), Action: left, Reward: -1\n",
            "Episode 0 finished\n",
            "Episode 0, State: (2, 0), Action: up, Reward: 5\n",
            "Episode 0 finished\n",
            "Episode 0, State: (1, 0), Action: up, Reward: -1\n",
            "Episode 0 finished\n"
          ]
        },
        {
          "output_type": "display_data",
          "data": {
            "text/plain": [
              "<Figure size 900x400 with 1 Axes>"
            ],
            "image/png": "[encoded data removed]"
          },
          "metadata": {}
        }
      ]
    }
  ]
}